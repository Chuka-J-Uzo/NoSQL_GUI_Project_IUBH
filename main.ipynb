{
 "cells": [
  {
   "cell_type": "code",
   "execution_count": 1,
   "metadata": {},
   "outputs": [],
   "source": [
    "# Import our python modules needed for NoSQL db (Mongo) and Flask for the GUI\n",
    "\n",
    "from flask import Flask, render_template, request, redirect\n",
    "from pymongo import MongoClient"
   ]
  },
  {
   "cell_type": "code",
   "execution_count": 3,
   "metadata": {},
   "outputs": [],
   "source": [
    "# Create the 'app' object\n",
    "app = Flask(__name__)\n",
    "client = MongoClient('mongodb://localhost:27017/')\n",
    "db = client['Datastream_db']\n",
    "collection = db['Data_collection']"
   ]
  },
  {
   "cell_type": "code",
   "execution_count": 4,
   "metadata": {},
   "outputs": [],
   "source": [
    "# Define our routes\n",
    "@app.route('/')\n",
    "def index():\n",
    "    # Get all documents from our collection\n",
    "    data = list(collection.find())\n",
    "    # Render the index.html template and pass in our data\n",
    "    return render_template('index.html', data=data)"
   ]
  }
 ],
 "metadata": {
  "kernelspec": {
   "display_name": "Python 3",
   "language": "python",
   "name": "python3"
  },
  "language_info": {
   "codemirror_mode": {
    "name": "ipython",
    "version": 3
   },
   "file_extension": ".py",
   "mimetype": "text/x-python",
   "name": "python",
   "nbconvert_exporter": "python",
   "pygments_lexer": "ipython3",
   "version": "3.10.6"
  },
  "orig_nbformat": 4
 },
 "nbformat": 4,
 "nbformat_minor": 2
}
